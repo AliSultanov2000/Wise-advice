{
  "nbformat": 4,
  "nbformat_minor": 0,
  "metadata": {
    "colab": {
      "provenance": [],
      "collapsed_sections": []
    },
    "kernelspec": {
      "name": "python3",
      "display_name": "Python 3"
    },
    "language_info": {
      "name": "python"
    },
    "gpuClass": "standard",
    "accelerator": "GPU"
  },
  "cells": [
    {
      "cell_type": "code",
      "execution_count": 1,
      "metadata": {
        "id": "hCU0hOct1A7W"
      },
      "outputs": [],
      "source": [
        "import pandas as pd\n",
        "import pickle\n",
        "import matplotlib.pyplot as plt\n",
        "from tensorflow import keras\n",
        "from keras.models import Sequential \n",
        "from keras_preprocessing.sequence import pad_sequences\n",
        "from keras_preprocessing.text import Tokenizer\n",
        "from keras.layers import Dense, BatchNormalization, Embedding, LSTM\n",
        "from keras.metrics import Precision\n",
        "from keras import utils\n",
        "from keras import callbacks\n",
        "from sklearn.model_selection import train_test_split\n",
        "from google.colab import drive\n",
        "from absl import logging\n",
        "logging.set_verbosity(logging.ERROR)  # ignore notification"
      ]
    },
    {
      "cell_type": "code",
      "source": [
        "! gdown --id 1JYBDszasL_IVYbKdDYnCPX46G58fIWZT "
      ],
      "metadata": {
        "colab": {
          "base_uri": "https://localhost:8080/"
        },
        "id": "8Yk2u0IrWWkN",
        "outputId": "7d2aad22-e54b-4b00-d715-02bd6688fa8b"
      },
      "execution_count": 2,
      "outputs": [
        {
          "output_type": "stream",
          "name": "stdout",
          "text": [
            "/usr/local/lib/python3.7/dist-packages/gdown/cli.py:131: FutureWarning: Option `--id` was deprecated in version 4.3.1 and will be removed in 5.0. You don't need to pass it anymore to use a file ID.\n",
            "  category=FutureWarning,\n",
            "Downloading...\n",
            "From: https://drive.google.com/uc?id=1JYBDszasL_IVYbKdDYnCPX46G58fIWZT\n",
            "To: /content/data.csv\n",
            "100% 36.1M/36.1M [00:00<00:00, 186MB/s]\n"
          ]
        }
      ]
    },
    {
      "cell_type": "markdown",
      "source": [
        "# Data processing\n",
        "Our goal at this stage is to transform the texts and labels in such a way that it is possible to submit data to the input of a recursive neural network: X, y"
      ],
      "metadata": {
        "id": "xj3dPyMMWpsR"
      }
    },
    {
      "cell_type": "code",
      "source": [
        "NUM_WORDS = 10000\n",
        "MAX_TEXT_LEN = 200"
      ],
      "metadata": {
        "id": "NgGKTtDGMU4i"
      },
      "execution_count": 3,
      "outputs": []
    },
    {
      "cell_type": "code",
      "source": [
        "# opening .csv files\n",
        "df = pd.read_csv('/content/data.csv')"
      ],
      "metadata": {
        "id": "qYtJWWJ01EhG"
      },
      "execution_count": 4,
      "outputs": []
    },
    {
      "cell_type": "code",
      "source": [
        "# deleting an extra column\n",
        "df.drop(columns=['Unnamed: 0'], axis=1, inplace=True)"
      ],
      "metadata": {
        "id": "Ms64hb5F1Ejo"
      },
      "execution_count": 5,
      "outputs": []
    },
    {
      "cell_type": "code",
      "source": [
        "def label_processing(labels: pd.Series) -> pd.Series:\n",
        "    \"\"\"The function of translation labels to a scale of 0 and 1\"\"\"\n",
        "    processed_labels = labels.apply(func=(lambda value: 1 if value > 5 else 0))\n",
        "    return processed_labels\n",
        "\n",
        "def pickle_save(file_name: str, data: Tokenizer) -> None:\n",
        "    \"\"\"Data(tokens) saving function in pickle\"\"\"\n",
        "    with open(file_name, 'wb') as file:\n",
        "        pickle.dump(data, file, protocol=pickle.HIGHEST_PROTOCOL)"
      ],
      "metadata": {
        "id": "4NlA2TGZ1Eq0"
      },
      "execution_count": 6,
      "outputs": []
    },
    {
      "cell_type": "code",
      "source": [
        "texts = df['text']\n",
        "labels = df['label'] \n",
        "labels.rename('y', inplace=True)\n",
        "y = label_processing(labels)  # processed labels: y"
      ],
      "metadata": {
        "id": "FbJldFwX1EtW"
      },
      "execution_count": 7,
      "outputs": []
    },
    {
      "cell_type": "code",
      "source": [
        "tokenizer = Tokenizer(num_words=NUM_WORDS)\n",
        "tokenizer.fit_on_texts(texts)  # training tokenizer "
      ],
      "metadata": {
        "id": "sbO2rdYT1Evn"
      },
      "execution_count": 8,
      "outputs": []
    },
    {
      "cell_type": "code",
      "source": [
        "# looking through the tokenizer dictionary\n",
        "word_count = 50\n",
        "keys = list(tokenizer.word_index.keys())[:word_count]\n",
        "values = list(tokenizer.word_index.values())[:word_count]\n",
        "list(zip(keys, values))"
      ],
      "metadata": {
        "id": "ps2VZdHG1EyA",
        "colab": {
          "base_uri": "https://localhost:8080/"
        },
        "outputId": "e7e0eae6-a209-4e2d-c73a-4be31bc2d614"
      },
      "execution_count": 9,
      "outputs": [
        {
          "output_type": "execute_result",
          "data": {
            "text/plain": [
              "[('the', 1),\n",
              " ('and', 2),\n",
              " ('a', 3),\n",
              " ('to', 4),\n",
              " ('of', 5),\n",
              " ('is', 6),\n",
              " ('it', 7),\n",
              " ('in', 8),\n",
              " ('i', 9),\n",
              " ('this', 10),\n",
              " ('that', 11),\n",
              " ('movie', 12),\n",
              " ('was', 13),\n",
              " ('but', 14),\n",
              " ('with', 15),\n",
              " ('for', 16),\n",
              " ('as', 17),\n",
              " ('film', 18),\n",
              " ('not', 19),\n",
              " ('you', 20),\n",
              " ('on', 21),\n",
              " ('are', 22),\n",
              " ('be', 23),\n",
              " ('have', 24),\n",
              " ('all', 25),\n",
              " ('like', 26),\n",
              " (\"it's\", 27),\n",
              " ('so', 28),\n",
              " ('one', 29),\n",
              " ('good', 30),\n",
              " ('his', 31),\n",
              " ('an', 32),\n",
              " ('from', 33),\n",
              " ('they', 34),\n",
              " ('just', 35),\n",
              " ('story', 36),\n",
              " ('at', 37),\n",
              " ('he', 38),\n",
              " ('by', 39),\n",
              " ('her', 40),\n",
              " ('or', 41),\n",
              " ('some', 42),\n",
              " ('there', 43),\n",
              " ('about', 44),\n",
              " ('has', 45),\n",
              " ('if', 46),\n",
              " ('what', 47),\n",
              " ('more', 48),\n",
              " ('very', 49),\n",
              " ('who', 50)]"
            ]
          },
          "metadata": {},
          "execution_count": 9
        }
      ]
    },
    {
      "cell_type": "code",
      "source": [
        "pickle_save('tokenizer.pickle', tokenizer)  # saving  the tokens in a json file for further analysis"
      ],
      "metadata": {
        "id": "drTx4ZOLiX_7"
      },
      "execution_count": 10,
      "outputs": []
    },
    {
      "cell_type": "code",
      "source": [
        "sequences = tokenizer.texts_to_sequences(texts)"
      ],
      "metadata": {
        "id": "JOC3IXKP1E0L"
      },
      "execution_count": 11,
      "outputs": []
    },
    {
      "cell_type": "code",
      "source": [
        "# As a result, the text under the following index was converted to a vector\n",
        "index = 0 \n",
        "print(texts[index])\n",
        "print(sequences[index])"
      ],
      "metadata": {
        "colab": {
          "base_uri": "https://localhost:8080/"
        },
        "id": "WcNXY_D9OOLo",
        "outputId": "9e997aaa-c284-4b91-e868-12e8544d13c2"
      },
      "execution_count": 12,
      "outputs": [
        {
          "output_type": "stream",
          "name": "stdout",
          "text": [
            "A Canadian bankrobber in the eighties managed to rob dozens of banks. How did he do it? And did he get away with it?The good: this is simply a well made heist movie. Nothing out of the ordinary though, but what makes this movie still worth a watch are the good acting performances. Mel Gibson only has got a small supporting role by the way, so dont expect to see him much than 15 minutes, but in those 15 minutes he does act well being a rough and cunning old crime boss.But the 2 leading actors are a joy to watch as well, with good actor's chemistry. I was really suprised (and pleased) to see these 2 actors, whom I only knew vaguely, perform so naturally. I always like to see a bankrobber play it cool when he robs a bank and this character is not only cool, but also quite funny, in a understated way!This is simply a (slowburning) fun watch of a heist movie. Not laugh out loud funny. Nor is it spectacular. But nonetheless entertaining enough to award it with a decent 7 stars.\n",
            "[3, 3630, 8, 1, 9225, 1010, 4, 2663, 4205, 5, 5478, 73, 99, 38, 85, 7, 2, 99, 38, 83, 262, 15, 7, 1, 30, 10, 6, 432, 3, 53, 96, 2100, 12, 145, 51, 5, 1, 1814, 167, 14, 47, 163, 10, 12, 129, 234, 3, 55, 22, 1, 30, 75, 242, 2158, 2159, 84, 45, 215, 3, 428, 669, 213, 39, 1, 92, 28, 950, 383, 4, 79, 110, 68, 81, 966, 209, 14, 8, 157, 966, 209, 38, 120, 343, 53, 104, 3, 2687, 2, 7354, 188, 573, 1449, 14, 1, 197, 1024, 135, 22, 3, 1399, 4, 55, 17, 53, 15, 30, 4768, 607, 9, 13, 52, 2, 3801, 4, 79, 134, 197, 135, 1413, 9, 84, 734, 7044, 2841, 28, 2277, 9, 232, 26, 4, 79, 3, 356, 7, 698, 65, 38, 3, 2265, 2, 10, 87, 6, 19, 84, 698, 14, 63, 173, 214, 8, 3, 3585, 92, 10, 6, 432, 3, 170, 55, 5, 3, 2100, 12, 19, 633, 51, 991, 214, 881, 6, 7, 1647, 14, 2396, 301, 175, 4, 1215, 7, 15, 3, 309, 483, 337]\n"
          ]
        }
      ]
    },
    {
      "cell_type": "code",
      "source": [
        "X = pad_sequences(sequences, maxlen=MAX_TEXT_LEN)  # Standardization of the number of elements in a vector"
      ],
      "metadata": {
        "id": "MJvGVQaj1E2r"
      },
      "execution_count": 13,
      "outputs": []
    },
    {
      "cell_type": "markdown",
      "source": [
        "# Separation of data into training and test"
      ],
      "metadata": {
        "id": "eVq1VtfYakLm"
      }
    },
    {
      "cell_type": "code",
      "source": [
        "X_train, X_test, y_train, y_test = train_test_split(X, y, test_size=0.2, shuffle=True, random_state=42)\n",
        "print(f'Training sample size: {len(X_train)}')\n",
        "print(f'Test sample size: {len(X_test)}')"
      ],
      "metadata": {
        "colab": {
          "base_uri": "https://localhost:8080/"
        },
        "id": "XCnLAH4Ea6e6",
        "outputId": "2b17327d-96df-4977-af79-73e052273f91"
      },
      "execution_count": 14,
      "outputs": [
        {
          "output_type": "stream",
          "name": "stdout",
          "text": [
            "Training sample size: 37276\n",
            "Test sample size: 9320\n"
          ]
        }
      ]
    },
    {
      "cell_type": "markdown",
      "source": [
        "# Creating and training a recurrent model (LSTM)"
      ],
      "metadata": {
        "id": "30vSOFjE1E49"
      }
    },
    {
      "cell_type": "code",
      "source": [
        "model = Sequential()\n",
        "model.add(Embedding(NUM_WORDS, 64, input_length=MAX_TEXT_LEN))\n",
        "model.add(LSTM(3, return_sequences=True))\n",
        "model.add(LSTM(5, return_sequences=True))\n",
        "model.add(BatchNormalization())\n",
        "model.add(LSTM(12))\n",
        "model.add(Dense(1, activation='sigmoid'))"
      ],
      "metadata": {
        "id": "gRLCBjIk1E7W"
      },
      "execution_count": 15,
      "outputs": []
    },
    {
      "cell_type": "code",
      "source": [
        "callbacks = [\n",
        "    callbacks.EarlyStopping(monitor='loss', min_delta=0.01, patience=10, verbose=1),  \n",
        "    callbacks.ReduceLROnPlateau(monitor='loss', factor=0.1, min_delta=0.01, min_lr=1e-10, patience=4, verbose=1, mode='auto')\n",
        "]"
      ],
      "metadata": {
        "id": "zBjHjBIQ1E9n"
      },
      "execution_count": 16,
      "outputs": []
    },
    {
      "cell_type": "code",
      "source": [
        "model.compile(metrics=[Precision()], loss='binary_crossentropy', optimizer='rmsprop')"
      ],
      "metadata": {
        "id": "z_ayotI5WU2S"
      },
      "execution_count": 17,
      "outputs": []
    },
    {
      "cell_type": "code",
      "source": [
        "history = model.fit(X_train, y_train, batch_size=150, epochs=15, validation_split=0.2,  callbacks=callbacks)"
      ],
      "metadata": {
        "colab": {
          "base_uri": "https://localhost:8080/"
        },
        "id": "gxUD2DcAWU4x",
        "outputId": "95264fb8-bad3-4e7f-ee07-37c49fbcdca2"
      },
      "execution_count": 18,
      "outputs": [
        {
          "output_type": "stream",
          "name": "stdout",
          "text": [
            "Epoch 1/15\n",
            "199/199 [==============================] - 13s 35ms/step - loss: 0.4581 - precision: 0.8001 - val_loss: 0.5256 - val_precision: 0.7898 - lr: 0.0010\n",
            "Epoch 2/15\n",
            "199/199 [==============================] - 6s 29ms/step - loss: 0.3286 - precision: 0.8832 - val_loss: 0.4438 - val_precision: 0.9144 - lr: 0.0010\n",
            "Epoch 3/15\n",
            "199/199 [==============================] - 6s 29ms/step - loss: 0.2798 - precision: 0.9010 - val_loss: 0.4004 - val_precision: 0.9208 - lr: 0.0010\n",
            "Epoch 4/15\n",
            "199/199 [==============================] - 6s 29ms/step - loss: 0.2497 - precision: 0.9148 - val_loss: 0.3500 - val_precision: 0.8463 - lr: 0.0010\n",
            "Epoch 5/15\n",
            "199/199 [==============================] - 7s 35ms/step - loss: 0.2234 - precision: 0.9260 - val_loss: 0.5026 - val_precision: 0.7971 - lr: 0.0010\n",
            "Epoch 6/15\n",
            "199/199 [==============================] - 6s 29ms/step - loss: 0.2048 - precision: 0.9331 - val_loss: 0.3563 - val_precision: 0.8628 - lr: 0.0010\n",
            "Epoch 7/15\n",
            "199/199 [==============================] - 6s 29ms/step - loss: 0.1881 - precision: 0.9400 - val_loss: 0.4139 - val_precision: 0.8259 - lr: 0.0010\n",
            "Epoch 8/15\n",
            "199/199 [==============================] - 6s 29ms/step - loss: 0.1729 - precision: 0.9456 - val_loss: 0.4730 - val_precision: 0.9145 - lr: 0.0010\n",
            "Epoch 9/15\n",
            "199/199 [==============================] - 6s 30ms/step - loss: 0.1572 - precision: 0.9496 - val_loss: 0.4336 - val_precision: 0.8956 - lr: 0.0010\n",
            "Epoch 10/15\n",
            "199/199 [==============================] - 7s 36ms/step - loss: 0.1434 - precision: 0.9555 - val_loss: 0.4437 - val_precision: 0.8931 - lr: 0.0010\n",
            "Epoch 11/15\n",
            "199/199 [==============================] - 6s 30ms/step - loss: 0.1331 - precision: 0.9589 - val_loss: 0.4515 - val_precision: 0.8564 - lr: 0.0010\n",
            "Epoch 12/15\n",
            "199/199 [==============================] - 6s 30ms/step - loss: 0.1213 - precision: 0.9616 - val_loss: 0.4520 - val_precision: 0.8558 - lr: 0.0010\n",
            "Epoch 13/15\n",
            "199/199 [==============================] - 6s 32ms/step - loss: 0.1093 - precision: 0.9665 - val_loss: 0.4912 - val_precision: 0.8564 - lr: 0.0010\n",
            "Epoch 14/15\n",
            "199/199 [==============================] - 7s 33ms/step - loss: 0.1031 - precision: 0.9696 - val_loss: 0.5426 - val_precision: 0.8214 - lr: 0.0010\n",
            "Epoch 15/15\n",
            "199/199 [==============================] - 6s 30ms/step - loss: 0.0925 - precision: 0.9722 - val_loss: 0.5784 - val_precision: 0.8950 - lr: 0.0010\n"
          ]
        }
      ]
    },
    {
      "cell_type": "code",
      "source": [
        "plt.figure(figsize=(24, 8))\n",
        "plt.title('Visualization of the LSTM learning process', fontsize=14)\n",
        "plt.plot(history.history['precision'], label='The fraction of correct answers on the training set') \n",
        "plt.plot(history.history['val_precision'], label='The fraction of correct answers of the validation set')\n",
        "plt.xlabel('Epochs', fontsize=14)\n",
        "plt.ylabel('The fraction of correct answers', fontsize=14)\n",
        "plt.xticks(fontsize=14)\n",
        "plt.yticks(fontsize=14)\n",
        "plt.grid()\n",
        "plt.legend(fontsize=14)\n",
        "plt.show()"
      ],
      "metadata": {
        "colab": {
          "base_uri": "https://localhost:8080/",
          "height": 316
        },
        "id": "FqSpKZHdenFU",
        "outputId": "26e81df4-28c5-4115-b5b4-dc522e52ad26"
      },
      "execution_count": 19,
      "outputs": [
        {
          "output_type": "display_data",
          "data": {
            "text/plain": [
              "<Figure size 1728x576 with 1 Axes>"
            ],
            "image/png": "[encoded data removed]"
          },
          "metadata": {
            "needs_background": "light"
          }
        }
      ]
    },
    {
      "cell_type": "code",
      "source": [
        "print(f'Metric on test: {model.evaluate(X_test, y_test)}')\n",
        "print(f'Metric on train: {model.evaluate(X_train, y_train)}')"
      ],
      "metadata": {
        "colab": {
          "base_uri": "https://localhost:8080/"
        },
        "id": "iaW--5IHd4Qd",
        "outputId": "fe468cfd-9348-40a7-e3dc-f0b7507ad606"
      },
      "execution_count": 20,
      "outputs": [
        {
          "output_type": "stream",
          "name": "stdout",
          "text": [
            "292/292 [==============================] - 3s 12ms/step - loss: 0.5578 - precision: 0.8974\n",
            "Metric on test: [0.5577755570411682, 0.897376537322998]\n",
            "1165/1165 [==============================] - 13s 11ms/step - loss: 0.2040 - precision: 0.9676\n",
            "Metric on train: [0.20396217703819275, 0.9676311016082764]\n"
          ]
        }
      ]
    },
    {
      "cell_type": "code",
      "source": [
        "model.summary()"
      ],
      "metadata": {
        "id": "04rkLt28WU7a",
        "colab": {
          "base_uri": "https://localhost:8080/"
        },
        "outputId": "865cdfbb-22d5-4362-ee68-f4600a89188e"
      },
      "execution_count": 21,
      "outputs": [
        {
          "output_type": "stream",
          "name": "stdout",
          "text": [
            "Model: \"sequential\"\n",
            "_________________________________________________________________\n",
            " Layer (type)                Output Shape              Param #   \n",
            "=================================================================\n",
            " embedding (Embedding)       (None, 200, 64)           640000    \n",
            "                                                                 \n",
            " lstm (LSTM)                 (None, 200, 3)            816       \n",
            "                                                                 \n",
            " lstm_1 (LSTM)               (None, 200, 5)            180       \n",
            "                                                                 \n",
            " batch_normalization (BatchN  (None, 200, 5)           20        \n",
            " ormalization)                                                   \n",
            "                                                                 \n",
            " lstm_2 (LSTM)               (None, 12)                864       \n",
            "                                                                 \n",
            " dense (Dense)               (None, 1)                 13        \n",
            "                                                                 \n",
            "=================================================================\n",
            "Total params: 641,893\n",
            "Trainable params: 641,883\n",
            "Non-trainable params: 10\n",
            "_________________________________________________________________\n"
          ]
        }
      ]
    },
    {
      "cell_type": "code",
      "source": [
        "model.save('/content/drive/MyDrive')  # saving the lstm model for further analysis"
      ],
      "metadata": {
        "id": "MYla3ei5nsom"
      },
      "execution_count": 22,
      "outputs": []
    }
  ]
}